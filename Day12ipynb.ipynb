{
  "nbformat": 4,
  "nbformat_minor": 0,
  "metadata": {
    "colab": {
      "provenance": []
    },
    "kernelspec": {
      "name": "python3",
      "display_name": "Python 3"
    },
    "language_info": {
      "name": "python"
    }
  },
  "cells": [
    {
      "cell_type": "code",
      "execution_count": null,
      "metadata": {
        "colab": {
          "base_uri": "https://localhost:8080/"
        },
        "id": "ehli8EP9pM1G",
        "outputId": "316137e0-5524-4521-b794-1b5e22a06e29"
      },
      "outputs": [
        {
          "output_type": "stream",
          "name": "stdout",
          "text": [
            "enemies inside function: 2\n",
            "enemies outside function: 1\n"
          ]
        }
      ],
      "source": [
        "########Scope#######\n",
        "enemies = 1\n",
        "\n",
        "def increase_enemies():\n",
        "    enemies = 2\n",
        "    print(f\"enemies inside function: {enemies}\")\n",
        "increase_enemies()\n",
        "print(f\"enemies outside function: {enemies}\")"
      ]
    },
    {
      "cell_type": "code",
      "source": [
        "#local scope\n",
        "def drink_potion():\n",
        "    potion_strength = 2\n",
        "    print(potion_strength)\n",
        "drink_potion()\n",
        "# print(potion_strength)  unaccessible as not defined globally"
      ],
      "metadata": {
        "colab": {
          "base_uri": "https://localhost:8080/"
        },
        "id": "V2bR9MLwp3XP",
        "outputId": "376a2240-d33a-48d8-9492-9c30ed7bb00f"
      },
      "execution_count": null,
      "outputs": [
        {
          "output_type": "stream",
          "name": "stdout",
          "text": [
            "2\n"
          ]
        }
      ]
    },
    {
      "cell_type": "code",
      "source": [
        "#Global scope\n",
        "player_health = 10\n",
        "\n",
        "\n",
        "def drink_potion():\n",
        "    potion_strength = 2\n",
        "    print(player_health)\n",
        "\n",
        "drink_potion()\n"
      ],
      "metadata": {
        "colab": {
          "base_uri": "https://localhost:8080/"
        },
        "id": "VTpZED-sqgVk",
        "outputId": "f8338484-04ac-4897-b94e-75d61100ddc4"
      },
      "execution_count": null,
      "outputs": [
        {
          "output_type": "stream",
          "name": "stdout",
          "text": [
            "10\n"
          ]
        }
      ]
    },
    {
      "cell_type": "code",
      "source": [
        "# #There is no Block Scope\n",
        "# game_level  = 3\n",
        "# enemies = [\"skeleton\", \"zombie\", \"alien\"]\n",
        "# if game_level < 5:\n",
        "#     new_enemy = enemies[0]\n",
        "\n",
        "# print(new_enemy) #perfectly valid code"
      ],
      "metadata": {
        "colab": {
          "base_uri": "https://localhost:8080/"
        },
        "id": "Og_Wqiyxrg0D",
        "outputId": "44a902e2-8a76-48df-c276-cdbe8f498b24"
      },
      "execution_count": null,
      "outputs": [
        {
          "output_type": "stream",
          "name": "stdout",
          "text": [
            "skeleton\n"
          ]
        }
      ]
    },
    {
      "cell_type": "code",
      "source": [
        "#As soon as I block that in a function, then problem arises\n",
        "\n",
        "game_level  = 3\n",
        "def create_enemy():\n",
        "    enemies = [\"skeleton\", \"zombie\", \"alien\"]\n",
        "    if game_level < 5:\n",
        "        new_enemy = enemies[0]\n",
        "\n",
        "print(new_enemy) #invalid code"
      ],
      "metadata": {
        "colab": {
          "base_uri": "https://localhost:8080/"
        },
        "id": "ysK9svFksHZ2",
        "outputId": "1a1ed8aa-ceb6-419c-df26-7e9ea599eecb"
      },
      "execution_count": null,
      "outputs": [
        {
          "output_type": "stream",
          "name": "stdout",
          "text": [
            "skeleton\n"
          ]
        }
      ]
    },
    {
      "cell_type": "code",
      "source": [
        "# if else while for they don't count as creating a new local scope\n",
        "# if i create a var within a fun then it is only available in that function, but if i do the same inside those loops that don't count as a separate local scope\n"
      ],
      "metadata": {
        "id": "CfoxzuM3spGj"
      },
      "execution_count": null,
      "outputs": []
    },
    {
      "cell_type": "code",
      "source": [
        "enemies = \"Zombie\"\n",
        "\n",
        "def increase_enemies():\n",
        "    enemies = \"Skeleton\"\n",
        "    print(f\"enemies inside function: {enemies}\")\n",
        "increase_enemies()\n",
        "print(f\"enemies outside function: {enemies}\")\n",
        "\n",
        "\n",
        "# the \"enemies\" var are differently defined so the are not the same inside and outside of the function\n"
      ],
      "metadata": {
        "colab": {
          "base_uri": "https://localhost:8080/"
        },
        "id": "xB0xoumitk30",
        "outputId": "73e7b0e7-6048-4f85-8b88-e66d91d9ac1d"
      },
      "execution_count": null,
      "outputs": [
        {
          "output_type": "stream",
          "name": "stdout",
          "text": [
            "enemies inside function: Skeleton\n",
            "enemies outside function: Zombie\n"
          ]
        }
      ]
    },
    {
      "cell_type": "code",
      "source": [
        "#and if we want to tap into the global var(outside the function) we must use the global keyword\n",
        "\n",
        "enemies = 1\n",
        "\n",
        "def increase_enemies():\n",
        "    global enemies #prone to create bugs don't change it\n",
        "    enemies += 5\n",
        "    print(f\"enemies inside function: {enemies}\")\n",
        "increase_enemies()\n",
        "print(f\"enemies outside function: {enemies}\")"
      ],
      "metadata": {
        "colab": {
          "base_uri": "https://localhost:8080/"
        },
        "id": "Nu3hi7GLt-m-",
        "outputId": "f289fbd7-513f-4d59-f94b-258195a16eda"
      },
      "execution_count": null,
      "outputs": [
        {
          "output_type": "stream",
          "name": "stdout",
          "text": [
            "enemies inside function: 6\n",
            "enemies outside function: 6\n"
          ]
        }
      ]
    },
    {
      "cell_type": "code",
      "source": [
        "#instead of modifying the global scope\n",
        "#use return and catch using a var, this works best\n",
        "\n",
        "enemies = 1\n",
        "\n",
        "def increase_enemies():\n",
        "    print(f\"enemies inside function: {enemies}\")\n",
        "    return enemies+1\n",
        "enemies = increase_enemies()\n",
        "print(f\"enemies outside function: {enemies}\")"
      ],
      "metadata": {
        "colab": {
          "base_uri": "https://localhost:8080/"
        },
        "id": "-Ul-PLQQundb",
        "outputId": "79d75d9f-a334-49e0-c6d1-3325698badde"
      },
      "execution_count": null,
      "outputs": [
        {
          "output_type": "stream",
          "name": "stdout",
          "text": [
            "enemies inside function: 1\n",
            "enemies outside function: 2\n"
          ]
        }
      ]
    },
    {
      "cell_type": "code",
      "source": [
        "#Smart use of global scope\n",
        "#Global Constraints: define those var in fully in upper case\n",
        "\n",
        "PI = 3.14159\n",
        "URL = \"https://www.google.com\"\n",
        "INSTA_HANDLE = \"@rohan\"\n"
      ],
      "metadata": {
        "id": "FrlWUFgYvQqu"
      },
      "execution_count": null,
      "outputs": []
    },
    {
      "cell_type": "code",
      "source": [
        "#Challenge: Guess the game\n",
        "import random\n",
        "guessed_number = 0\n",
        "secret_number = random.randint(1, 100)\n",
        "\n",
        "level = input(\"Type your level(easy/hard): \").lower()\n",
        "def guess():\n",
        "    guessed_number = int(input(\"Guess a number bewtween  1 and 100: \"))\n",
        "    return guessed_number\n",
        "\n",
        "if level == \"easy\":\n",
        "    for i in range(1, 11):\n",
        "        guessed_number = guess()\n",
        "        if guessed_number == secret_number:\n",
        "            print(f\"You got it correct. The Secret Number is {secret_number}\")\n",
        "            break\n",
        "        elif guessed_number > secret_number:\n",
        "            if i == 10:\n",
        "                print(f\"You lose. No attempts left. The secret number was: {secret_number}\")\n",
        "                break\n",
        "            print(f\"Too High. Your have {10 - i} attempts left\")\n",
        "\n",
        "        elif guessed_number < secret_number:\n",
        "            if i == 10:\n",
        "                print(f\"You lose. No attempts left. The secret number was: {secret_number}\")\n",
        "                break\n",
        "            print(f\"Too low. Your have {10 - i} attempts left\")\n",
        "\n",
        "\n",
        "if level == \"hard\":\n",
        "    for i in range(1, 6):\n",
        "        guessed_number = guess()\n",
        "        if guessed_number == secret_number:\n",
        "            print(f\"You got it correct. The Secret Number is {secret_number}\")\n",
        "            break\n",
        "        elif guessed_number > secret_number:\n",
        "            if i == 5:\n",
        "                print(f\"You lose. No attempts left. The secret number was: {secret_number}\")\n",
        "                break\n",
        "            print(f\"Too High. Your have {5 - i} attempts left\")\n",
        "        elif guessed_number < secret_number:\n",
        "            if i == 10:\n",
        "                print(f\"You lose. No attempts left. The secret number was: {secret_number}\")\n",
        "                break\n",
        "            print(f\"Too low. Your have {5 - i} attempts left\")\n"
      ],
      "metadata": {
        "colab": {
          "base_uri": "https://localhost:8080/"
        },
        "id": "oXSGxPoNySgC",
        "outputId": "3d402749-8dad-421d-cdac-0a6407649127"
      },
      "execution_count": null,
      "outputs": [
        {
          "output_type": "stream",
          "name": "stdout",
          "text": [
            "Type your level(easy/hard): easy\n",
            "Guess a number bewtween  1 and 100: 50\n",
            "Too low. Your have 9 attempts left\n",
            "Guess a number bewtween  1 and 100: 75\n",
            "Too low. Your have 8 attempts left\n",
            "Guess a number bewtween  1 and 100: 85\n",
            "Too High. Your have 7 attempts left\n",
            "Guess a number bewtween  1 and 100: 80\n",
            "Too High. Your have 6 attempts left\n",
            "Guess a number bewtween  1 and 100: 77\n",
            "Too High. Your have 5 attempts left\n",
            "Guess a number bewtween  1 and 100: 76\n",
            "You got it correct. The Secret Number is 76\n"
          ]
        }
      ]
    },
    {
      "cell_type": "code",
      "source": [
        "#Angela's approach\n",
        "EASY_LEVEL_TURNS = 10\n",
        "HARD_LEVEL_TURNS = 5\n",
        "\n",
        "def check_answer(guess, answer, turns):\n",
        "    \"\"\"Checks answer against guess. Returns the number of turns\"\"\"\n",
        "    if guess > answer:\n",
        "        print(\"Too High.\")\n",
        "        return turns - 1\n",
        "    elif guess < answer:\n",
        "        print(\"Too Low.\")\n",
        "        return turns - 1\n",
        "    else:\n",
        "        print(f\"You go it correct, the answer was {answer}.\")\n",
        "\n",
        "def set_difficulty():\n",
        "    level = input(\"Type difficulty level (easy/hard): \").lower()\n",
        "    if level == \"easy\":\n",
        "        return EASY_LEVEL_TURNS\n",
        "    else:\n",
        "        return HARD_LEVEL_TURNS\n",
        "\n",
        "def game():\n",
        "    print(\"Welcome to the Number guessing game!\")\n",
        "    answer = random.randint(1, 100)\n",
        "    turns = set_difficulty()\n",
        "\n",
        "    guess = 0\n",
        "    while guess != answer:\n",
        "        print(f\"You have {turns} attempt(s) to guess the number.\")\n",
        "        guess = int(input(\"make a guess  b/w 1 and 100: \" ))\n",
        "\n",
        "        turns = check_answer(guess, answer, turns)\n",
        "\n",
        "        if turns == 0:\n",
        "            print(\"No attempts left, you lose.\")\n",
        "            return\n",
        "        elif guess != answer:\n",
        "            print(\"Guess Again\")\n",
        "\n",
        "game()\n",
        "\n",
        "\n",
        "\n",
        "\n"
      ],
      "metadata": {
        "id": "-HBzc-EN2ar5",
        "colab": {
          "base_uri": "https://localhost:8080/"
        },
        "outputId": "0c7e4c88-5bda-49ca-b748-b037c1eb0707"
      },
      "execution_count": 56,
      "outputs": [
        {
          "output_type": "stream",
          "name": "stdout",
          "text": [
            "Welcome to the Number guessing game!\n",
            "Type difficulty level (easy/hard): easy\n",
            "You have 10 attempt(s) to guess the number.\n",
            "make a guess  b/w 1 and 100: 50\n",
            "Too High.\n",
            "Guess Again\n",
            "You have 9 attempt(s) to guess the number.\n",
            "make a guess  b/w 1 and 100: 25\n",
            "Too High.\n",
            "Guess Again\n",
            "You have 8 attempt(s) to guess the number.\n",
            "make a guess  b/w 1 and 100: 13\n",
            "Too Low.\n",
            "Guess Again\n",
            "You have 7 attempt(s) to guess the number.\n",
            "make a guess  b/w 1 and 100: 19\n",
            "Too Low.\n",
            "Guess Again\n",
            "You have 6 attempt(s) to guess the number.\n",
            "make a guess  b/w 1 and 100: 22\n",
            "Too High.\n",
            "Guess Again\n",
            "You have 5 attempt(s) to guess the number.\n",
            "make a guess  b/w 1 and 100: 20\n",
            "You go it correct, the answer was 20.\n"
          ]
        }
      ]
    },
    {
      "cell_type": "code",
      "source": [],
      "metadata": {
        "id": "u7fABQWvTKug"
      },
      "execution_count": null,
      "outputs": []
    }
  ]
}