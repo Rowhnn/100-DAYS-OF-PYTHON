{
  "nbformat": 4,
  "nbformat_minor": 0,
  "metadata": {
    "colab": {
      "provenance": []
    },
    "kernelspec": {
      "name": "python3",
      "display_name": "Python 3"
    },
    "language_info": {
      "name": "python"
    }
  },
  "cells": [
    {
      "cell_type": "code",
      "execution_count": null,
      "metadata": {
        "id": "Aslr1-GrTyqa"
      },
      "outputs": [],
      "source": [
        "#dictionaries\n",
        "programming_dictionary = {\n",
        "    \"Bug\":\"An error in a program that prevents the program from running as expected.\",\n",
        "    \"Function\":\"A piece of code that you can easily call over and over again.\",\n",
        "    \"Loop\":\"The action of doing something over and over again\",\n",
        "}\n"
      ]
    },
    {
      "cell_type": "code",
      "source": [
        "#retrieving items from a dictionary\n",
        "print(programming_dictionary[\"Bug\"])\n"
      ],
      "metadata": {
        "colab": {
          "base_uri": "https://localhost:8080/"
        },
        "id": "etv9G0SLT3Gm",
        "outputId": "b8862714-cb8e-43f8-dd15-0e6ddcaa578f"
      },
      "execution_count": null,
      "outputs": [
        {
          "output_type": "stream",
          "name": "stdout",
          "text": [
            "An error in a program that prevents the program from running as expected.\n"
          ]
        }
      ]
    },
    {
      "cell_type": "code",
      "source": [
        "#adding items to a dictionary\n",
        "programming_dictionary[\"List\"] = \"A simple list which keeps track of virtual items.\"\n",
        "print(programming_dictionary)"
      ],
      "metadata": {
        "colab": {
          "base_uri": "https://localhost:8080/"
        },
        "id": "TwvsY_uIT3JV",
        "outputId": "c1de8c26-7f1a-4426-97d6-f0228ee731cb"
      },
      "execution_count": null,
      "outputs": [
        {
          "output_type": "stream",
          "name": "stdout",
          "text": [
            "{'Bug': 'An error in a program that prevents the program from running as expected.', 'Function': 'A piece of code that you can easily call over and over again.', 'Loop': 'The action of doing something over and over again', 'List': 'A simple list which keeps track of virtual items.'}\n"
          ]
        }
      ]
    },
    {
      "cell_type": "code",
      "source": [
        "#updating(edit)\n",
        "programming_dictionary[\"Bug\"] = \"A moth inside a cpu\"\n",
        "print(programming_dictionary)"
      ],
      "metadata": {
        "colab": {
          "base_uri": "https://localhost:8080/"
        },
        "id": "0_ywizTuT3MG",
        "outputId": "cb9eb4cf-ace8-4fab-9ef9-71e8e85f4a01"
      },
      "execution_count": null,
      "outputs": [
        {
          "output_type": "stream",
          "name": "stdout",
          "text": [
            "{'Bug': 'A moth inside a cpu', 'Function': 'A piece of code that you can easily call over and over again.', 'Loop': 'The action of doing something over and over again', 'List': 'A simple list which keeps track of virtual items.'}\n"
          ]
        }
      ]
    },
    {
      "cell_type": "code",
      "source": [
        "empty_dictionary = {}\n",
        "empty_dictionary[\"Rohan\"] = \"Ascent\"\n",
        "print(empty_dictionary)"
      ],
      "metadata": {
        "id": "eQEyxErpXh8Y",
        "colab": {
          "base_uri": "https://localhost:8080/"
        },
        "outputId": "5f2d2715-f963-4569-ff25-8b84272562d9"
      },
      "execution_count": null,
      "outputs": [
        {
          "output_type": "stream",
          "name": "stdout",
          "text": [
            "{'Rohan': 'Ascent'}\n"
          ]
        }
      ]
    },
    {
      "cell_type": "code",
      "source": [
        "#clearing all items in the dictionary\n",
        "# programming_dictionary = {}\n",
        "# print(programming_dictionary)"
      ],
      "metadata": {
        "id": "WMNF93tjXh_Y"
      },
      "execution_count": null,
      "outputs": []
    },
    {
      "cell_type": "code",
      "source": [
        "#loop through a dictionary (traverse)\n",
        "\n",
        "for key in programming_dictionary:\n",
        "    print(key, end=\" : \")\n",
        "    print(programming_dictionary[key])\n"
      ],
      "metadata": {
        "id": "l9pP8f8BXiB_",
        "colab": {
          "base_uri": "https://localhost:8080/"
        },
        "outputId": "634b77a5-40ad-4bd4-fa26-901a5887999b"
      },
      "execution_count": null,
      "outputs": [
        {
          "output_type": "stream",
          "name": "stdout",
          "text": [
            "Bug : A moth inside a cpu\n",
            "Function : A piece of code that you can easily call over and over again.\n",
            "Loop : The action of doing something over and over again\n",
            "List : A simple list which keeps track of virtual items.\n"
          ]
        }
      ]
    },
    {
      "cell_type": "code",
      "source": [
        "#converting to grades from percentages\n",
        "\n",
        "student_scores = {\n",
        "    \"Harry\" : 81,\n",
        "    \"Ron\" : 78,\n",
        "    \"Hermione\" : 99,\n",
        "    \"Draco\" : 74,\n",
        "    \"Neville\" : 62\n",
        "}\n",
        "student_grades = {}\n",
        "for student in student_scores:\n",
        "    if (student_scores[student] > 90):\n",
        "        student_grades[student] = \"Outstanding\"\n",
        "    elif student_scores[student] > 80:\n",
        "        student_grades[student] = \"Exceeds expectation\"\n",
        "    elif student_scores[student] > 70:\n",
        "        student_grades[student] = \"Acceptable\"\n",
        "    else:\n",
        "        student_grades[student] = \"Fail\"\n",
        "print(student_grades)"
      ],
      "metadata": {
        "id": "sttfueSoXiKv",
        "colab": {
          "base_uri": "https://localhost:8080/"
        },
        "outputId": "4a408c29-373a-42dd-96e5-b745481c26a5"
      },
      "execution_count": null,
      "outputs": [
        {
          "output_type": "stream",
          "name": "stdout",
          "text": [
            "{'Harry': 'Exceeds expectation', 'Ron': 'Acceptable', 'Hermione': 'Outstanding', 'Draco': 'Acceptable', 'Neville': 'Fail'}\n"
          ]
        }
      ]
    },
    {
      "cell_type": "code",
      "source": [
        "#Nesting with dictionaries and lists\n",
        "\n",
        "#basic dict:\n",
        "capitals = {\n",
        "    \"France\" : \"Paris\",\n",
        "    \"Germany\" : \"Berlin\"\n",
        "}\n",
        "\n",
        "#Nesting a list inside a dictionary\n",
        "travel_log = {\n",
        "    \"France\" : [\"Paris\", \"Dijon\", \"Lille\"],\n",
        "    \"India\" : [\"Dehradoon\",\"Kolkata\", \"Asansol\"]\n",
        "}\n",
        "print(travel_log[\"France\"][1])\n",
        "print(travel_log[\"India\"])"
      ],
      "metadata": {
        "colab": {
          "base_uri": "https://localhost:8080/"
        },
        "id": "JVlwFjTHMqOu",
        "outputId": "775aca72-5fe0-410c-c493-2e691cc3127b"
      },
      "execution_count": null,
      "outputs": [
        {
          "output_type": "stream",
          "name": "stdout",
          "text": [
            "Dijon\n",
            "['Dehradoon', 'Kolkata', 'Asansol']\n",
            "{'Panchet': 30, 'Maithon': 5}\n",
            "33\n"
          ]
        }
      ]
    },
    {
      "cell_type": "code",
      "source": [
        "#Nesting a dict inside a dict\n",
        "\n",
        "travel_count = {\n",
        "    \"West Bengal\" : {\n",
        "        \"Kolkata\" : 3,\n",
        "        \"Durgapur\" : 30\n",
        "        },\n",
        "    \"Jharkhand\" : {\n",
        "        \"Panchet\" : 30,\n",
        "        \"Maithon\" : 5\n",
        "        }\n",
        "}\n",
        "print(travel_count[\"Jharkhand\"])\n",
        "print(travel_count[\"West Bengal\"][\"Kolkata\"])\n",
        "print(travel_count[\"West Bengal\"][\"Kolkata\"] + travel_count[\"West Bengal\"][\"Durgapur\"]) #adding visits\n",
        "\n",
        "\n"
      ],
      "metadata": {
        "id": "imVscBJIRPiq"
      },
      "execution_count": null,
      "outputs": []
    },
    {
      "cell_type": "code",
      "source": [
        "#Nesting both list and dict inside dict\n",
        "travel_log2 = {\n",
        "    \"India\" : {\n",
        "        \"States_visited\" : [\"West Bengal\", \"Jharkhand\", \"Odisha\", \"Uttarakhand\"],\n",
        "        \"total_states_visited\" : 4\n",
        "        }\n",
        "}\n",
        "print(travel_log2)\n",
        "print(travel_log2[\"India\"][\"States_visited\"])\n",
        "print(travel_log2[\"India\"][\"States_visited\"][0])\n",
        "print(travel_log2[\"India\"][\"total_states_visited\"])"
      ],
      "metadata": {
        "colab": {
          "base_uri": "https://localhost:8080/"
        },
        "id": "LuwoHIOyRPlk",
        "outputId": "81bfe84f-af76-4f2f-f192-d1a28feb2bcf"
      },
      "execution_count": null,
      "outputs": [
        {
          "output_type": "stream",
          "name": "stdout",
          "text": [
            "{'India': {'States_visited': ['West Bengal', 'Jharkhand', 'Odisha', 'Uttarakhand'], 'total_states_visited': 4}}\n",
            "['West Bengal', 'Jharkhand', 'Odisha', 'Uttarakhand']\n",
            "West Bengal\n",
            "4\n"
          ]
        }
      ]
    },
    {
      "cell_type": "code",
      "source": [
        "#Nesting both dict and list inside a list\n",
        "# .            [\n",
        "# .                {\n",
        "# .                    Key:[List],\n",
        "# .                    Key2:{Dict}\n",
        "# .                },\n",
        "# .                {\n",
        "# .                    Key:value,\n",
        "# .                    Key2:value\n",
        "# .\n",
        "# .                }\n",
        "# .            ]\n",
        "\n",
        "travel_log3 = [\n",
        "    {\"Country\" :\"India\",\n",
        "     \"States_visited\" : [\"West Bengal\", \"Jharkhand\", \"Odisha\", \"Uttarakhand\"],\n",
        "     \"total_states_visited\" : 4\n",
        "    },\n",
        "    {\"Country\" :\"Leprasa\",\n",
        "     \"States_visited\" : [\"Bohetoq\", \"Sebisqaz\", \"Rambaz\"],\n",
        "     \"total_states_visited\" : 3\n",
        "    }\n",
        "\n",
        "]\n",
        "\n",
        "print(travel_log3[1][\"Country\"])"
      ],
      "metadata": {
        "colab": {
          "base_uri": "https://localhost:8080/"
        },
        "id": "_1Ax9e4GRPn7",
        "outputId": "f53eb152-f15f-4d4a-ddf4-cf4a3a05daeb"
      },
      "execution_count": null,
      "outputs": [
        {
          "output_type": "stream",
          "name": "stdout",
          "text": [
            "Leprasa\n"
          ]
        }
      ]
    },
    {
      "cell_type": "code",
      "source": [
        "#Challenge on lists and dicts\n",
        "country = input()\n",
        "visits = int(input())\n",
        "list_of_cities = eval(input()) #create list from formatted string\n",
        "\n",
        "travel_log = [\n",
        "    {\n",
        "        \"country\" : \"France\",\n",
        "        \"visits\" : 12,\n",
        "        \"cities\" : [\"Paris\", \"Lille\", \"Dijon\"]\n",
        "    },\n",
        "    {\n",
        "        \"country\" : \"Germany\",\n",
        "        \"visits\" : 5,\n",
        "        \"cities\" : [\"Berlin\", \"Hamburg\", \"Stuttgart\"]\n",
        "    }\n",
        "]\n",
        "\n",
        "def add_new_country(new_country, no_of_visits, new_list_of_cities):\n",
        "\n",
        "\n",
        "    travel_log.append(\n",
        "        {\n",
        "            \"country\" : new_country,\n",
        "            \"visits\" : no_of_visits,\n",
        "            \"cities\" : new_list_of_cities\n",
        "        }\n",
        "    )\n",
        "\n",
        "\n",
        "add_new_country(new_country=country, no_of_visits=visits, new_list_of_cities=list_of_cities)\n",
        "print(f\"I have been to {travel_log[2]['country']}, {travel_log[2]['visits']} times.\")\n",
        "print(f\"My favourite city was {travel_log[2]['cities'][0]}\")"
      ],
      "metadata": {
        "colab": {
          "base_uri": "https://localhost:8080/"
        },
        "id": "qsXtUsrOMqRa",
        "outputId": "caf81adf-4371-495a-c4c2-b3e379fc46ad"
      },
      "execution_count": null,
      "outputs": [
        {
          "output_type": "stream",
          "name": "stdout",
          "text": [
            "India\n",
            "1\n",
            "[\"Andal\", \"Kolkata\"]\n",
            "I have been to India, 1 times.\n",
            "My favourite city was Andal\n"
          ]
        }
      ]
    },
    {
      "cell_type": "code",
      "source": [
        "import os\n",
        "\n",
        "def clear():\n",
        "    if os.name == 'nt':  # Windows\n",
        "        os.system('cls')\n",
        "    else:  # Unix/Linux/Mac\n",
        "        os.system('clear')\n",
        "\n",
        "names = []\n",
        "\n",
        "while True:\n",
        "    clear()\n",
        "    name = input(\"What is your name?: \").strip()\n",
        "    bid = int(input(\"What's your bid?: $\"))\n",
        "    if name:\n",
        "        names.append({name: bid})  # key = name, value = bid\n",
        "\n",
        "    response = input(\"Add one more bidder out there? (yes/no): \").lower().strip()\n",
        "    if response == \"no\":\n",
        "        break\n",
        "\n",
        "clear()\n",
        "\n",
        "max_bid = 0\n",
        "max_bid_winner = \"\"\n",
        "for i, bidder in enumerate(names, start=1):\n",
        "    for key, value in bidder.items():  # iterate through key-value pair\n",
        "        print(f\"{key} : {value}\")\n",
        "        if value >= max_bid:\n",
        "            max_bid = value\n",
        "            max_bid_winner = key\n",
        "print(f\"{max_bid_winner} won the bid with amount : ${max_bid}\")\n",
        "\n",
        "input(\"\\nPress Enter to exit...\")\n",
        "\n",
        "\n",
        "# alternative loop:\n",
        "# for i, bidder in enumerate(names, start=1):\n",
        "#     name = list(bidder.keys())[0]\n",
        "#     bid = list(bidder.values())[0]\n",
        "#     print(f\"{i}. {name} — ${bid}\")\n",
        "\n"
      ],
      "metadata": {
        "colab": {
          "base_uri": "https://localhost:8080/",
          "height": 232
        },
        "id": "oIi_Z7r9gpuK",
        "outputId": "aa35c0bc-92bc-4510-eb55-9cb038475c48"
      },
      "execution_count": null,
      "outputs": [
        {
          "name": "stdout",
          "output_type": "stream",
          "text": [
            "What is your name?: Rohan\n",
            "What's your bid?: $990\n",
            "Add one more bidder out there? (yes/no): yes\n",
            "What is your name?: Amit\n",
            "What's your bid?: $890\n",
            "Add one more bidder out there? (yes/no): no\n",
            "Rohan : 990\n",
            "Amit : 890\n",
            "Rohan won the bid with amount : $990\n",
            "\n",
            "Press Enter to exit...\n"
          ]
        },
        {
          "output_type": "execute_result",
          "data": {
            "text/plain": [
              "''"
            ],
            "application/vnd.google.colaboratory.intrinsic+json": {
              "type": "string"
            }
          },
          "metadata": {},
          "execution_count": 62
        }
      ]
    },
    {
      "cell_type": "code",
      "source": [],
      "metadata": {
        "id": "pbXMt0mAgp4B"
      },
      "execution_count": null,
      "outputs": []
    },
    {
      "cell_type": "code",
      "source": [],
      "metadata": {
        "id": "DfY9d2WbgqFC"
      },
      "execution_count": null,
      "outputs": []
    }
  ]
}