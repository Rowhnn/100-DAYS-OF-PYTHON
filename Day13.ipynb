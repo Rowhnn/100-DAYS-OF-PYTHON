{
  "nbformat": 4,
  "nbformat_minor": 0,
  "metadata": {
    "colab": {
      "provenance": [],
      "authorship_tag": "ABX9TyOwTBLL1FQDzDPtXa/+Z6Gg",
      "include_colab_link": true
    },
    "kernelspec": {
      "name": "python3",
      "display_name": "Python 3"
    },
    "language_info": {
      "name": "python"
    }
  },
  "cells": [
    {
      "cell_type": "markdown",
      "metadata": {
        "id": "view-in-github",
        "colab_type": "text"
      },
      "source": [
        "<a href=\"https://colab.research.google.com/github/Rowhnn/100-DAYS-OF-PYTHON/blob/master/Day13.ipynb\" target=\"_parent\"><img src=\"https://colab.research.google.com/assets/colab-badge.svg\" alt=\"Open In Colab\"/></a>"
      ]
    },
    {
      "cell_type": "code",
      "execution_count": null,
      "metadata": {
        "id": "_ZOcydcKvgxl"
      },
      "outputs": [],
      "source": [
        "#Describe the bug"
      ]
    },
    {
      "cell_type": "code",
      "source": [
        "def my_function():\n",
        "    for i in range(1,20):\n",
        "        if i == 20:\n",
        "            print(\"You got it\")\n",
        "my_function()\n",
        "\n",
        "#Bug: loop does not include 20."
      ],
      "metadata": {
        "id": "VpPVuZZ2xPGY"
      },
      "execution_count": null,
      "outputs": []
    },
    {
      "cell_type": "code",
      "source": [
        "def my_function():\n",
        "    for i in range(1,21): #debugged\n",
        "        if i == 20:\n",
        "            print(\"You got it\")\n",
        "my_function()"
      ],
      "metadata": {
        "id": "Sn9Y9LqawPdM"
      },
      "execution_count": null,
      "outputs": []
    },
    {
      "cell_type": "code",
      "source": [
        "#Reproduce the bug"
      ],
      "metadata": {
        "id": "Jqi-pKC8wU1k"
      },
      "execution_count": null,
      "outputs": []
    },
    {
      "cell_type": "code",
      "source": [
        "from random import randint\n",
        "dice_imgs = [\"1️⃣\", \"2️⃣\", \"3️⃣\", \"4️⃣\", \"5️⃣\", \"6️⃣\"]\n",
        "dice_num = randint(1, 6)\n",
        "print(dice_num)\n",
        "print(dice_imgs[dice_num])\n",
        "\n",
        "#Random integer range is wrong. it should be 0-5(incl)\n",
        "# randint includes both ranges"
      ],
      "metadata": {
        "colab": {
          "base_uri": "https://localhost:8080/"
        },
        "id": "gSyBun0dwU99",
        "outputId": "8d8175f1-b5ae-4606-fcfd-7948a76e4350"
      },
      "execution_count": null,
      "outputs": [
        {
          "output_type": "stream",
          "name": "stdout",
          "text": [
            "1\n",
            "2️⃣\n"
          ]
        }
      ]
    },
    {
      "cell_type": "code",
      "source": [
        "from random import randint\n",
        "dice_imgs = [\"1️⃣\", \"2️⃣\", \"3️⃣\", \"4️⃣\", \"5️⃣\", \"6️⃣\"]\n",
        "dice_num = randint(0, 5) # debugged\n",
        "print(dice_imgs[dice_num])"
      ],
      "metadata": {
        "colab": {
          "base_uri": "https://localhost:8080/"
        },
        "id": "tOG520xTxm5W",
        "outputId": "e9f5307e-c72e-4ea8-d006-434034ba7ae1"
      },
      "execution_count": null,
      "outputs": [
        {
          "output_type": "stream",
          "name": "stdout",
          "text": [
            "5️⃣\n"
          ]
        }
      ]
    },
    {
      "cell_type": "code",
      "source": [
        "# Play Computer"
      ],
      "metadata": {
        "id": "q6ygplp4x18M"
      },
      "execution_count": null,
      "outputs": []
    },
    {
      "cell_type": "code",
      "source": [
        "year = int(input(\"What's your year of birth? \"))\n",
        "if year > 1980 and year < 1994:\n",
        "    print(\"You are millenial.\")\n",
        "elif year > 1994:\n",
        "    print(\"You are Gen Z.\")\n",
        "\n",
        "#bug: if someone enters 1994 or value less than 1980 then it will be error\n"
      ],
      "metadata": {
        "id": "2o7R9rseyhT9"
      },
      "execution_count": null,
      "outputs": []
    },
    {
      "cell_type": "code",
      "source": [
        "year = int(input(\"What's your year of birth? \"))\n",
        "if year > 1980 and year <= 1994: # debugged\n",
        "    print(\"You are millenial.\")\n",
        "elif year > 1994:\n",
        "    print(\"You are Gen Z.\")\n",
        "else:\n",
        "    print(\"Invalid year.\") #debugged"
      ],
      "metadata": {
        "colab": {
          "base_uri": "https://localhost:8080/"
        },
        "id": "QICdJaqXzG56",
        "outputId": "571ebf75-59c2-4a3b-a827-0091ebcc1d31"
      },
      "execution_count": null,
      "outputs": [
        {
          "output_type": "stream",
          "name": "stdout",
          "text": [
            "What's your year of birth? 1888\n",
            "Invalid year.\n"
          ]
        }
      ]
    },
    {
      "cell_type": "code",
      "source": [
        "# Fix the Errors\n"
      ],
      "metadata": {
        "id": "rwVB0dxIznHi"
      },
      "execution_count": null,
      "outputs": []
    },
    {
      "cell_type": "code",
      "source": [
        "# age = input(\"How old are you?\")\n",
        "# if age > 18:\n",
        "#     print(\"You can drive at age {age}\")\n",
        "\n",
        "# integer not taken as input, indentation was wrong of if block and f string should be there inside print\n"
      ],
      "metadata": {
        "id": "_Cju64zcznOj"
      },
      "execution_count": null,
      "outputs": []
    },
    {
      "cell_type": "code",
      "source": [
        "age = int(input(\"How old are you?\")) #debugged\n",
        "if age > 18:\n",
        "    print(f\"You can drive at age {age}\") # debugged"
      ],
      "metadata": {
        "colab": {
          "base_uri": "https://localhost:8080/"
        },
        "id": "7agu7ZVj0EZd",
        "outputId": "e6f81fa4-cb7c-4118-9061-c01d5a8eaea4"
      },
      "execution_count": null,
      "outputs": [
        {
          "output_type": "stream",
          "name": "stdout",
          "text": [
            "How old are you?19\n",
            "You can drive at age 19\n"
          ]
        }
      ]
    },
    {
      "cell_type": "code",
      "source": [
        "#Print is your friend"
      ],
      "metadata": {
        "id": "Jf6_RBup0SrN"
      },
      "execution_count": null,
      "outputs": []
    },
    {
      "cell_type": "code",
      "source": [
        "pages = 0\n",
        "word_per_page = 0\n",
        "pages = int(input(\"Number of pages: \"))\n",
        "word_per_page == int(input(\"Number of  words per page: \"))\n",
        "total_words = pages * word_per_page\n",
        "print(total_words)\n",
        "# there won't be =="
      ],
      "metadata": {
        "id": "o06QWRvY0p3e"
      },
      "execution_count": null,
      "outputs": []
    },
    {
      "cell_type": "code",
      "source": [
        "pages = 0\n",
        "word_per_page = 0\n",
        "pages = int(input(\"Number of pages: \"))\n",
        "word_per_page = int(input(\"Number of  words per page: \"))\n",
        "total_words = pages * word_per_page\n",
        "print(total_words)"
      ],
      "metadata": {
        "colab": {
          "base_uri": "https://localhost:8080/"
        },
        "id": "8m7Wq_z41Fp3",
        "outputId": "f44d2675-b9b0-4a39-9b4b-a6c979f69bb6"
      },
      "execution_count": null,
      "outputs": [
        {
          "output_type": "stream",
          "name": "stdout",
          "text": [
            "Number of pages: 5\n",
            "Number of  words per page: 10\n",
            "50\n"
          ]
        }
      ]
    },
    {
      "cell_type": "code",
      "source": [
        "#Use a debugger: use python tutor"
      ],
      "metadata": {
        "id": "07sd-DEg1FuB"
      },
      "execution_count": null,
      "outputs": []
    },
    {
      "cell_type": "code",
      "source": [
        "def mutate(a_list):\n",
        "    b_list = []\n",
        "    for item in a_list:\n",
        "        new_item = item * 2\n",
        "    b_list.append(new_item)\n",
        "    print(b_list)\n",
        "\n",
        "    # b_list inside the mutate is wrongly indended\n",
        "\n",
        "mutate([1, 2, 3, 5, 8, 13])"
      ],
      "metadata": {
        "colab": {
          "base_uri": "https://localhost:8080/"
        },
        "id": "O1trPAFe1FyP",
        "outputId": "958e501f-7748-4934-d196-7a2c0f0312c0"
      },
      "execution_count": null,
      "outputs": [
        {
          "output_type": "stream",
          "name": "stdout",
          "text": [
            "[26]\n"
          ]
        }
      ]
    },
    {
      "cell_type": "code",
      "source": [
        "def mutate(a_list):\n",
        "    b_list = []\n",
        "    for item in a_list:\n",
        "        new_item = item * 2\n",
        "        b_list.append(new_item) #Debugged\n",
        "    print(b_list)\n",
        "mutate([1, 2, 3, 5, 8, 13])"
      ],
      "metadata": {
        "colab": {
          "base_uri": "https://localhost:8080/"
        },
        "id": "6dpblVWk1F2m",
        "outputId": "3fe386da-bc27-48d4-a8cc-55073850a14d"
      },
      "execution_count": null,
      "outputs": [
        {
          "output_type": "stream",
          "name": "stdout",
          "text": [
            "[2, 4, 6, 10, 16, 26]\n"
          ]
        }
      ]
    },
    {
      "cell_type": "code",
      "source": [],
      "metadata": {
        "id": "1iMt4DsE1F7E"
      },
      "execution_count": null,
      "outputs": []
    }
  ]
}