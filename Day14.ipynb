{
  "nbformat": 4,
  "nbformat_minor": 0,
  "metadata": {
    "colab": {
      "provenance": [],
      "authorship_tag": "ABX9TyNkSQOzdOieJ1sM9SMGLyEk",
      "include_colab_link": true
    },
    "kernelspec": {
      "name": "python3",
      "display_name": "Python 3"
    },
    "language_info": {
      "name": "python"
    }
  },
  "cells": [
    {
      "cell_type": "markdown",
      "metadata": {
        "id": "view-in-github",
        "colab_type": "text"
      },
      "source": [
        "<a href=\"https://colab.research.google.com/github/Rowhnn/100-DAYS-OF-PYTHON/blob/master/Day14.ipynb\" target=\"_parent\"><img src=\"https://colab.research.google.com/assets/colab-badge.svg\" alt=\"Open In Colab\"/></a>"
      ]
    },
    {
      "cell_type": "code",
      "execution_count": 1,
      "metadata": {
        "id": "rMrLJ5uvfjUL"
      },
      "outputs": [],
      "source": [
        "data = [\n",
        "    {'name': 'Instagram', 'follower_count': 694, 'description': 'Social media platform', 'country': 'United States'},\n",
        "    {'name': 'Cristiano Ronaldo', 'follower_count': 664, 'description': 'Footballer', 'country': 'Portugal'},\n",
        "    {'name': 'Lionel Messi', 'follower_count': 506, 'description': 'Footballer', 'country': 'Argentina'},\n",
        "    {'name': 'Selena Gomez', 'follower_count': 417, 'description': 'Musician and actress', 'country': 'United States'},\n",
        "    {'name': 'Kylie Jenner', 'follower_count': 392, 'description': 'Media personality', 'country': 'United States'},\n",
        "    {'name': 'Dwayne Johnson', 'follower_count': 392, 'description': 'Actor and wrestler', 'country': 'United States'},\n",
        "    {'name': 'Ariana Grande', 'follower_count': 374, 'description': 'Musician and actress', 'country': 'United States'},\n",
        "    {'name': 'Kim Kardashian', 'follower_count': 355, 'description': 'Media personality', 'country': 'United States'},\n",
        "    {'name': 'Beyoncé', 'follower_count': 309, 'description': 'Musician and actress', 'country': 'United States'},\n",
        "    {'name': 'Khloé Kardashian', 'follower_count': 301, 'description': 'Media personality', 'country': 'United States'},\n",
        "    {'name': 'Nike', 'follower_count': 299, 'description': 'Sportswear multinational', 'country': 'United States'},\n",
        "    {'name': 'Justin Bieber', 'follower_count': 293, 'description': 'Musician', 'country': 'Canada'},\n",
        "    {'name': 'Kendall Jenner', 'follower_count': 286, 'description': 'Media personality', 'country': 'United States'},\n",
        "    {'name': 'Taylor Swift', 'follower_count': 282, 'description': 'Musician', 'country': 'United States'},\n",
        "    {'name': 'National Geographic', 'follower_count': 277, 'description': 'Magazine', 'country': 'United States'},\n",
        "    {'name': 'Virat Kohli', 'follower_count': 273, 'description': 'Cricketer', 'country': 'India'},\n",
        "    {'name': 'Jennifer Lopez', 'follower_count': 247, 'description': 'Musician and actress', 'country': 'United States'},\n",
        "    {'name': 'Neymar', 'follower_count': 231, 'description': 'Footballer', 'country': 'Brazil'},\n",
        "    {'name': 'Nicki Minaj', 'follower_count': 224, 'description': 'Musician', 'country': 'Trinidad and Tobago'},\n",
        "    {'name': 'Kourtney Kardashian', 'follower_count': 217, 'description': 'Media personality', 'country': 'United States'},\n",
        "    {'name': 'Miley Cyrus', 'follower_count': 212, 'description': 'Musician and actress', 'country': 'United States'},\n",
        "    {'name': 'Katy Perry', 'follower_count': 202, 'description': 'Musician', 'country': 'United States'},\n",
        "    {'name': 'Real Madrid CF', 'follower_count': 177, 'description': 'Football club', 'country': 'Spain'},\n",
        "    {'name': 'Zendaya', 'follower_count': 177, 'description': 'Actress and singer', 'country': 'United States'},\n",
        "    {'name': 'Kevin Hart', 'follower_count': 176, 'description': 'Comedian and actor', 'country': 'United States'},\n",
        "    {'name': 'Cardi B', 'follower_count': 163, 'description': 'Musician and actress', 'country': 'United States'},\n",
        "    {'name': 'LeBron James', 'follower_count': 158, 'description': 'Basketball player', 'country': 'United States'},\n",
        "    {'name': 'Demi Lovato', 'follower_count': 153, 'description': 'Musician and actress', 'country': 'United States'},\n",
        "    {'name': 'Rihanna', 'follower_count': 149, 'description': 'Musician', 'country': 'Barbados'},\n",
        "    {'name': 'Chris Brown', 'follower_count': 144, 'description': 'Musician', 'country': 'United States'},\n",
        "    {'name': 'FC Barcelona', 'follower_count': 143, 'description': 'Football club', 'country': 'Spain'},\n",
        "    {'name': 'Drake', 'follower_count': 142, 'description': 'Musician', 'country': 'Canada, United States'},\n",
        "    {'name': 'Ellen DeGeneres', 'follower_count': 135, 'description': 'Former comedian and television host', 'country': 'United States'},\n",
        "    {'name': 'Kylian Mbappé', 'follower_count': 126, 'description': 'Footballer', 'country': 'France'},\n",
        "    {'name': 'Billie Eilish', 'follower_count': 124, 'description': 'Musician', 'country': 'United States'},\n",
        "    {'name': 'UEFA Champions League', 'follower_count': 121, 'description': 'Club football competition', 'country': 'Europe'},\n",
        "    {'name': 'Gal Gadot', 'follower_count': 107, 'description': 'Actress', 'country': 'Israel'},\n",
        "    {'name': 'Lisa', 'follower_count': 106, 'description': 'Musician', 'country': 'Thailand'},\n",
        "    {'name': 'Vin Diesel', 'follower_count': 103, 'description': 'Actor', 'country': 'United States'},\n",
        "    {'name': 'Narendra Modi', 'follower_count': 97, 'description': 'Prime Minister of India', 'country': 'India'},\n",
        "    {'name': 'NASA', 'follower_count': 96, 'description': 'Space agency', 'country': 'United States'},\n",
        "    {'name': 'Shraddha Kapoor', 'follower_count': 94, 'description': 'Actress', 'country': 'India'},\n",
        "    {'name': 'Shakira', 'follower_count': 93, 'description': 'Musician', 'country': 'Colombia'},\n",
        "    {'name': 'Priyanka Chopra', 'follower_count': 92, 'description': 'Actress', 'country': 'India'},\n",
        "    {'name': 'NBA', 'follower_count': 91, 'description': 'Professional basketball league', 'country': 'United States, Canada'},\n",
        "    {'name': 'Snoop Dogg', 'follower_count': 88, 'description': 'Musician', 'country': 'United States'},\n",
        "    {'name': 'Jennie', 'follower_count': 88, 'description': 'Musician', 'country': 'South Korea'},\n",
        "    {'name': 'David Beckham', 'follower_count': 88, 'description': 'Former footballer', 'country': 'United Kingdom'},\n",
        "    {'name': 'Dua Lipa', 'follower_count': 88, 'description': 'Musician', 'country': 'United Kingdom, Albania, Kosovo'},\n",
        "    {'name': 'Alia Bhatt', 'follower_count': 87, 'description': 'Actress', 'country': 'India'},\n",
        "]\n"
      ]
    },
    {
      "cell_type": "code",
      "source": [
        "# print(data[49][\"name\"])\n",
        "# score = 0;\n",
        "# if data[40][\"follower_count\"] > data[48][\"follower_count\"]:\n",
        "#     score += 1\n",
        "#     print(f\"You are right. Your score is {score}.\")\n",
        "# else:\n",
        "#     print(f\"Sorry you are wrong. Final Score is {score}\")"
      ],
      "metadata": {
        "id": "gw7g144-hNf8"
      },
      "execution_count": null,
      "outputs": []
    },
    {
      "cell_type": "code",
      "source": [
        "#To do 1: Make it possible to get random A and B\n",
        "#To do 2: Retrive the follower_count of A and B\n",
        "#To do 3: if follower_count of chosen one < the other; then game over; final score is displayed\n",
        "#To do 4: else  Score is increased and the chosen one becomes new A and new random B is generated and game is contd. until game over."
      ],
      "metadata": {
        "id": "Nk2QFx5ukXgp"
      },
      "execution_count": null,
      "outputs": []
    },
    {
      "cell_type": "code",
      "source": [
        "#I achived this solution by myself and I am very happy with myself!\n",
        "#also it has a twist: that if i get it correct then the person i chose will come as the next person a\n",
        "import random\n",
        "\n",
        "def compare(a, b):\n",
        "    if a >= b:\n",
        "        return True\n",
        "    else:\n",
        "        return False\n",
        "\n",
        "def game():\n",
        "    random_index_a = random.randint(0,49)\n",
        "    random_index_b = random.randint(0, 49)\n",
        "\n",
        "    a_person = data[random_index_a][\"name\"]\n",
        "    a_person_desc = data[random_index_a][\"description\"]\n",
        "    a_person_country = data[random_index_a][\"country\"]\n",
        "    a_person_followers = data[random_index_a][\"follower_count\"]\n",
        "\n",
        "    b_person = data[random_index_b][\"name\"]\n",
        "    b_person_desc = data[random_index_b][\"description\"]\n",
        "    b_person_country = data[random_index_b][\"country\"]\n",
        "    b_person_followers = data[random_index_b][\"follower_count\"]\n",
        "\n",
        "    print(f\"Compare A: {a_person}, {a_person_desc}, from {a_person_country}.\")\n",
        "    print(f\"Against B: {b_person}, {b_person_desc}, from {b_person_country}.\")\n",
        "\n",
        "    choice = input(\"Choose A or B: \").lower()\n",
        "    if choice == \"a\":\n",
        "        result = compare(a_person_followers, b_person_followers)\n",
        "    elif choice == \"b\":\n",
        "        result = compare(b_person_followers, a_person_followers)\n",
        "    score = 0\n",
        "\n",
        "    while(True):\n",
        "        if result == False:\n",
        "            print(f\"You got it wrong. Your final score  is {score}.\")\n",
        "            return\n",
        "        else:\n",
        "            score += 1\n",
        "            print(f\"You got it right. Your score  is {score}.\")\n",
        "            if choice == \"a\":\n",
        "                print(f\"Compare A: {a_person}, {a_person_desc}, from {a_person_country}.\")\n",
        "                random_index_new = random.randint(0, 49)\n",
        "                new_person = data[random_index_new][\"name\"]\n",
        "                new_person_desc = data[random_index_new][\"description\"]\n",
        "                new_person_country = data[random_index_new][\"country\"]\n",
        "                new_person_followers = data[random_index_new][\"follower_count\"]\n",
        "                print(f\"Against B: {new_person}, {new_person_desc}, from {new_person_country}.\")\n",
        "                choice = input(\"Choose A or B: \").lower()\n",
        "                if choice == \"a\":\n",
        "                    result = compare(a_person_followers, new_person_followers)\n",
        "                elif choice == \"b\":\n",
        "                    result = compare(b_person_followers, new_person_followers)\n",
        "\n",
        "            elif choice == \"b\":\n",
        "                print(f\"Compare A: {b_person}, {b_person_desc}, from {b_person_country}.\")\n",
        "                random_index_new = random.randint(0, 49)\n",
        "                new_person = data[random_index_new][\"name\"]\n",
        "                new_person_desc = data[random_index_new][\"description\"]\n",
        "                new_person_country = data[random_index_new][\"country\"]\n",
        "                new_person_followers = data[random_index_new][\"follower_count\"]\n",
        "                print(f\"Against B: {new_person}, {new_person_desc}, from {new_person_country}.\")\n",
        "                choice = input(\"Choose A or B: \").lower()\n",
        "                if choice == \"a\":\n",
        "                    result = compare(a_person_followers, new_person_followers)\n",
        "                elif choice == \"b\":\n",
        "                    result = compare(b_person_followers, new_person_followers)\n",
        "\n",
        "\n",
        "game()"
      ],
      "metadata": {
        "colab": {
          "base_uri": "https://localhost:8080/"
        },
        "id": "Ij1IqiNul9OA",
        "outputId": "d20db768-4a39-44c0-f1a8-ccbd85577f7c"
      },
      "execution_count": 11,
      "outputs": [
        {
          "output_type": "stream",
          "name": "stdout",
          "text": [
            "Compare A: Zendaya, Actress and singer, from United States.\n",
            "Against B: Chris Brown, Musician, from United States.\n",
            "Choose A or B: a\n",
            "You got it right. Your score  is 1.\n",
            "Compare A: Zendaya, Actress and singer, from United States.\n",
            "Against B: Katy Perry, Musician, from United States.\n",
            "Choose A or B: a\n",
            "You got it wrong. Your final score  is 1.\n"
          ]
        }
      ]
    },
    {
      "cell_type": "code",
      "source": [
        "\n",
        "import random\n",
        "#Angela's solution:\n",
        "\n",
        "def format_data(account):\n",
        "    \"\"\"Takes the  account data and returns the printable format\"\"\"\n",
        "    account_name = account[\"name\"]\n",
        "    account_descr = account[\"description\"]\n",
        "    accout_country = account[\"country\"]\n",
        "    return f\"{account_name}, a {account_descr} from {accout_country}.\"\n",
        "\n",
        "def check_answer(guess, a_followers, b_followers):\n",
        "    \"\"\" Takes the user guess and follower count of a and b and returns if user got it correct\"\"\"\n",
        "    if a_followers > b_followers:\n",
        "        return guess == \"a\"\n",
        "    else:\n",
        "        return guess == \"b\"\n",
        "score = 0\n",
        "game_should_continue = True\n",
        "account_b = random.choice(data)\n",
        "\n",
        "while game_should_continue:\n",
        "    #Generate a random account from the game data\n",
        "    account_a = account_b\n",
        "    account_b = random.choice(data)\n",
        "\n",
        "    while account_a == account_b:\n",
        "        account_b = random.choice(data)\n",
        "\n",
        "    print(f\"Compare A: {format_data(account_a)}\")\n",
        "    print(f\"Against B: {format_data(account_b)}\")\n",
        "\n",
        "    #Ask user for a guess\n",
        "    guess = input(\"Who has more follower? Type A or B: \" ).lower()\n",
        "\n",
        "    #Check if user is correct\n",
        "    a_follower_count =  account_a[\"follower_count\"]\n",
        "    b_follower_count =  account_b[\"follower_count\"]\n",
        "    is_correct = check_answer(guess, a_follower_count, b_follower_count)\n",
        "\n",
        "    #Give user feedback\n",
        "\n",
        "    if is_correct:\n",
        "        score += 1\n",
        "        print(f\"You are correct. Score: {score}\")\n",
        "    else:\n",
        "        game_should_continue = False\n",
        "        print(f\"Sorry, that's wrong. Final Score: {score}\")\n",
        "\n",
        "    #make the game repeatable\n"
      ],
      "metadata": {
        "id": "eHTn8klymGYx",
        "colab": {
          "base_uri": "https://localhost:8080/"
        },
        "outputId": "b29abd24-9635-4230-db57-a5e7cabe8a3b"
      },
      "execution_count": 7,
      "outputs": [
        {
          "output_type": "stream",
          "name": "stdout",
          "text": [
            "Compare A: Neymar, a Footballer from Brazil.\n",
            "Against B: Shraddha Kapoor, a Actress from India.\n",
            "Who has more follower? Type A or B: a\n",
            "You are correct. Score: 1\n",
            "Compare A: Shraddha Kapoor, a Actress from India.\n",
            "Against B: Jennie, a Musician from South Korea.\n",
            "Who has more follower? Type A or B: b\n",
            "Sorry, that's wrong. Final Score: 1\n"
          ]
        }
      ]
    },
    {
      "cell_type": "code",
      "source": [],
      "metadata": {
        "id": "s-b0m-FcfW6f"
      },
      "execution_count": null,
      "outputs": []
    }
  ]
}